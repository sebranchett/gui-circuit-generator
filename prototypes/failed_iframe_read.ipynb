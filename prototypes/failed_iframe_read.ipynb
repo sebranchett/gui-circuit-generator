{
 "cells": [
  {
   "cell_type": "code",
   "execution_count": 1,
   "metadata": {
    "scrolled": true
   },
   "outputs": [
    {
     "data": {
      "text/html": [
       "\n",
       "        <iframe\n",
       "            width=\"900\"\n",
       "            height=\"500\"\n",
       "            src=\"./src/gui/gui.html\"\n",
       "            frameborder=\"0\"\n",
       "            allowfullscreen\n",
       "            \n",
       "        ></iframe>\n",
       "        "
      ],
      "text/plain": [
       "<IPython.lib.display.IFrame at 0x2c58edf41a0>"
      ]
     },
     "execution_count": 1,
     "metadata": {},
     "output_type": "execute_result"
    }
   ],
   "source": [
    "from IPython.display import IFrame\n",
    "fred = IFrame(\"./src/gui/gui.html\", 900,500)  # allow-downloads?\n",
    "fred"
   ]
  },
  {
   "cell_type": "code",
   "execution_count": 2,
   "metadata": {},
   "outputs": [
    {
     "data": {
      "application/javascript": [
       "\n",
       "var current_document = document.getElementById('fred').contentWindow.document;\n",
       "current_document.createDownloadLink()\n"
      ],
      "text/plain": [
       "<IPython.core.display.Javascript object>"
      ]
     },
     "metadata": {},
     "output_type": "display_data"
    }
   ],
   "source": [
    "from IPython.display import display, Javascript\n",
    "\n",
    "js_code = \"\"\"\n",
    "var current_document = document.getElementById('fred').contentWindow.document;\n",
    "current_document.createDownloadLink()\n",
    "\"\"\"\n",
    "\n",
    "# Display the JavaScript code\n",
    "display(Javascript(js_code))"
   ]
  },
  {
   "cell_type": "code",
   "execution_count": 3,
   "metadata": {},
   "outputs": [
    {
     "data": {
      "application/javascript": [
       "\n",
       "var current_document = document;\n",
       "var download_link = current_document.querySelector('[title]');  // want downloadlink\n",
       "if (download_link) {\n",
       "    var link = download_link.getAttribute('href');\n",
       "    alert(download_link);\n",
       "    IPython.notebook.kernel.execute(\"download_link = '\" + link + \"'\");\n",
       "}\n"
      ],
      "text/plain": [
       "<IPython.core.display.Javascript object>"
      ]
     },
     "metadata": {},
     "output_type": "display_data"
    }
   ],
   "source": [
    "from IPython.display import display, Javascript\n",
    "\n",
    "# JavaScript code to get the HTML content of the current notebook\n",
    "js_code = \"\"\"\n",
    "var current_document = document;\n",
    "var download_link = current_document.querySelector('[title]');  // want downloadlink\n",
    "if (download_link) {\n",
    "    var link = download_link.getAttribute('href');\n",
    "    alert(download_link);\n",
    "    IPython.notebook.kernel.execute(\"download_link = '\" + link + \"'\");\n",
    "}\n",
    "\"\"\"\n",
    "\n",
    "# Display the JavaScript code\n",
    "display(Javascript(js_code))"
   ]
  },
  {
   "cell_type": "code",
   "execution_count": 4,
   "metadata": {},
   "outputs": [
    {
     "data": {
      "text/plain": [
       "'<!DOCTYPE html>\\n<!-- saved from url=(0083)file:///Users/jurrallanusa/PROJECTS/2025-QuCat/minimal-system/prototypes/index.html -->\\n<html lang=\"en\"><head><meta http-equiv=\"Content-Type\" content=\"text/html; charset=UTF-8\">\\n    \\n    <meta name=\"viewport\" content=\"width=device-width, initial-scale=1.0\">\\n    <title>Circuit Management Prototype</title>\\n    <style>\\n        canvas {\\n            border: 1px solid black;\\n            display: block;\\n            margin: 0 auto;\\n        }\\n        #controls {\\n            text-align: center;\\n            margin-bottom: 10px;\\n        }\\n        button {\\n            margin: 0 5px;\\n            padding: 10px 20px;\\n        }\\n    </style>\\n</head>\\n<body>\\n    <div id=\"controls\">\\n        <button id=\"addResistor\">Add Resistor</button>\\n        <button id=\"addCapacitor\">Add Capacitor</button>\\n        <button id=\"clear\">Clear</button>\\n        <button id=\"saveToFile\">Save</button>\\n            <a download=\"circuit.json\" id=\"downloadlink\" style=\"display: none\">Download</a>\\n    </div>\\n    <canvas id=\"circuitCanvas\" width=\"800\" height=\"600\"></canvas>\\n    <script>\\n        const canvas = document.getElementById(\\'circuitCanvas\\');\\n        const ctx = canvas.getContext(\\'2d\\');\\n\\n        const ELEMENT_SIZE = 50;\\n        const COLORS = { resistor: \\'blue\\', capacitor: \\'green\\' };\\n        const DOT_RADIUS = 5; // Radius of terminal dots\\n\\n        let elements = [];\\n        let connections = [];\\n        let draggedElement = null;\\n\\n        // Utility to check if a point is inside an element\\n        function isInsideElement(x, y, element) {\\n            return x >= element.x &&\\n                   x <= element.x + ELEMENT_SIZE &&\\n                   y >= element.y &&\\n                   y <= element.y + ELEMENT_SIZE;\\n        }\\n\\n        // Draw an element\\n        function drawElement(element) {\\n            ctx.fillStyle = COLORS[element.type];\\n            ctx.fillRect(element.x, element.y, ELEMENT_SIZE, ELEMENT_SIZE);\\n            ctx.fillStyle = \\'white\\';\\n            ctx.fillText(element.id, element.x + 10, element.y + 30);\\n        }\\n\\n        // Draw a connection with terminal dots\\n        function drawConnection(connection) {\\n            const { from, to } = connection;\\n\\n            // Calculate snapping points (center of the element)\\n            const fromX = from.x + ELEMENT_SIZE / 2;\\n            const fromY = from.y + ELEMENT_SIZE / 2;\\n            const toX = to.x + ELEMENT_SIZE / 2;\\n            const toY = to.y + ELEMENT_SIZE / 2;\\n\\n            // Draw the line\\n            ctx.beginPath();\\n            ctx.moveTo(fromX, fromY);\\n            ctx.lineTo(toX, toY);\\n            ctx.strokeStyle = \\'black\\';\\n            ctx.lineWidth = 2;\\n            ctx.stroke();\\n\\n            // Draw terminal dots\\n            drawDot(fromX, fromY);\\n            drawDot(toX, toY);\\n        }\\n\\n        // Draw a terminal dot\\n        function drawDot(x, y) {\\n            ctx.beginPath();\\n            ctx.arc(x, y, DOT_RADIUS, 0, Math.PI * 2);\\n            ctx.fillStyle = \\'black\\';\\n            ctx.fill();\\n        }\\n\\n        // Redraw the canvas\\n        function redraw() {\\n            ctx.clearRect(0, 0, canvas.width, canvas.height);\\n\\n            // Draw all connections\\n            connections.forEach(drawConnection);\\n\\n            // Draw all elements\\n            elements.forEach(drawElement);\\n        }\\n\\n        // Add an element to the canvas\\n        function addElement(type) {\\n            const id = `${type[0].toUpperCase()}${elements.length + 1}`;\\n            const x = Math.random() * (canvas.width - ELEMENT_SIZE);\\n            const y = Math.random() * (canvas.height - ELEMENT_SIZE);\\n\\n            elements.push({ id, type, x, y });\\n            redraw();\\n        }\\n        // Save the circuit to a file for download\\n        function createDownloadLink() {\\n            var circuit = JSON.stringify({ elements, connections });\\n            var textFile = new Blob([circuit], { type: \\'application/json\\' });\\n            var link = document.getElementById(\\'downloadlink\\');\\n            link.href = URL.createObjectURL(textFile);\\n            link.download = \\'circuit.json\\';\\n            link.style.display = \\'block\\';\\n            // link.style.display = \\'none\\';\\n            // link.click();\\n        }\\n\\n        // Call the function to create the download link when the \\'saveToFile\\' button is clicked\\n        document.getElementById(\\'saveToFile\\').addEventListener(\\'click\\', createDownloadLink);\\n\\n        // Handle mouse events for dragging and connecting\\n        canvas.addEventListener(\\'mousedown\\', (event) => {\\n            const x = event.offsetX;\\n            const y = event.offsetY;\\n\\n            draggedElement = elements.find(el => isInsideElement(x, y, el));\\n        });\\n\\n        canvas.addEventListener(\\'mousemove\\', (event) => {\\n            if (draggedElement) {\\n                draggedElement.x = event.offsetX - ELEMENT_SIZE / 2;\\n                draggedElement.y = event.offsetY - ELEMENT_SIZE / 2;\\n                redraw();\\n            }\\n        });\\n\\n        canvas.addEventListener(\\'mouseup\\', (event) => {\\n            if (draggedElement) {\\n                const x = event.offsetX;\\n                const y = event.offsetY;\\n\\n                // Snap and connect to a target element\\n                const target = elements.find(el =>\\n                    el !== draggedElement &&\\n                    Math.abs(el.x + ELEMENT_SIZE / 2 - x) < ELEMENT_SIZE &&\\n                    Math.abs(el.y + ELEMENT_SIZE / 2 - y) < ELEMENT_SIZE\\n                );\\n\\n                if (target) {\\n                    connections.push({ from: draggedElement, to: target });\\n                }\\n\\n                draggedElement = null;\\n                redraw();\\n            }\\n        });\\n\\n        // Clear the canvas\\n        document.getElementById(\\'clear\\').addEventListener(\\'click\\', () => {\\n            elements = [];\\n            connections = [];\\n            redraw();\\n        });\\n\\n        // Add resistor or capacitor\\n        document.getElementById(\\'addResistor\\').addEventListener(\\'click\\', () => addElement(\\'resistor\\'));\\n        document.getElementById(\\'addCapacitor\\').addEventListener(\\'click\\', () => addElement(\\'capacitor\\'));\\n\\n        // Initial draw\\n        redraw();\\n    </script>\\n\\n\\n</body></html>'"
      ]
     },
     "execution_count": 4,
     "metadata": {},
     "output_type": "execute_result"
    }
   ],
   "source": [
    "from bs4 import BeautifulSoup\n",
    "\n",
    "# Load the HTML content from the iframe\n",
    "with open(fred.src, 'r') as file:\n",
    "    html_content = file.read()\n",
    "html_content"
   ]
  },
  {
   "cell_type": "code",
   "execution_count": 5,
   "metadata": {},
   "outputs": [
    {
     "name": "stdout",
     "output_type": "stream",
     "text": [
      "<a download=\"circuit.json\" id=\"downloadlink\" style=\"display: none\">Download</a>\n"
     ]
    }
   ],
   "source": [
    "# Parse the HTML content using BeautifulSoup\n",
    "soup = BeautifulSoup(html_content, 'html.parser')\n",
    "\n",
    "# Find the download link\n",
    "download_link = soup.find('a', {'download': True})\n",
    "print(download_link)"
   ]
  }
 ],
 "metadata": {
  "kernelspec": {
   "display_name": "Python 3 (ipykernel)",
   "language": "python",
   "name": "python3"
  },
  "language_info": {
   "codemirror_mode": {
    "name": "ipython",
    "version": 3
   },
   "file_extension": ".py",
   "mimetype": "text/x-python",
   "name": "python",
   "nbconvert_exporter": "python",
   "pygments_lexer": "ipython3",
   "version": "3.13.1"
  }
 },
 "nbformat": 4,
 "nbformat_minor": 4
}
