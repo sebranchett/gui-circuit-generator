{
 "cells": [
  {
   "cell_type": "code",
   "execution_count": null,
   "metadata": {},
   "outputs": [],
   "source": [
    "from IPython.display import IFrame\n",
    "# fred = IFrame(https://playground.tensorflow.org, 900,500)\n",
    "fred = IFrame(\"./src/gui/gui.html\", 900,500)  # allow-downloads?\n",
    "fred"
   ]
  },
  {
   "cell_type": "code",
   "execution_count": null,
   "metadata": {},
   "outputs": [],
   "source": [
    "from bs4 import BeautifulSoup\n",
    "from IPython.display import HTML\n",
    "\n",
    "with open(fred.src, 'r') as file:\n",
    "    html_code = file.read()\n",
    "# display(HTML(html_code))\n",
    "\n",
    "# Parse the HTML content of the IFrame\n",
    "soup = BeautifulSoup(html_code, 'html.parser')\n",
    "\n",
    "# Find the 'download' field\n",
    "download_field = soup.find(id='downloadlink')\n",
    "download_field"
   ]
  },
  {
   "cell_type": "code",
   "execution_count": null,
   "metadata": {},
   "outputs": [],
   "source": [
    "from ipylab import JupyterFrontEnd\n",
    "\n",
    "app = JupyterFrontEnd()\n",
    "# app.commands.execute('help:open', args={\"url\": \"./src/gui/gui.html\", \"text\": \"Tab name\"})\n",
    "app.commands.execute('help:open', args={\"url\": \"https://qucat.org\", \"text\": \"Documentation\"})"
   ]
  },
  {
   "cell_type": "markdown",
   "metadata": {},
   "source": [
    "Old Jupyter-widgets are now deprecated. See: https://github.com/jupyter-widgets/widget-cookiecutter/blob/master/README.md\n",
    "\n",
    "This uses the recommended 'anywidget': https://anywidget.dev/en/getting-started/"
   ]
  },
  {
   "cell_type": "code",
   "execution_count": null,
   "metadata": {},
   "outputs": [],
   "source": [
    "%env ANYWIDGET_HMR=1\n",
    "import anywidget\n",
    "import traitlets\n",
    "\n",
    "\n",
    "class QucatWidget(anywidget.AnyWidget):\n",
    "    _esm = \"\"\"\n",
    "    // import \"src/gui/script.js\";\n",
    "    const DOT_RADIUS = 10; // Radius of terminal dots\n",
    "    \n",
    "    export function render({ model, el }) {\n",
    "        let canvas = document.createElement(\"canvas\");\n",
    "        canvas.id = 'circuitCanvas';\n",
    "        canvas.width = 400;\n",
    "        canvas.height = 300;\n",
    "        canvas.style.border = '1px solid black';\n",
    "        let ctx = canvas.getContext(\"2d\");\n",
    "\n",
    "        // Draw a terminal dot\n",
    "        function drawDot(x, y) {\n",
    "            ctx.beginPath();\n",
    "            ctx.arc(x, y, DOT_RADIUS, 0, Math.PI * 2);\n",
    "            ctx.fillStyle = 'red';\n",
    "            ctx.fill();\n",
    "        }\n",
    "\n",
    "        canvas.addEventListener(\"click\", () => {\n",
    "            let rect = canvas.getBoundingClientRect();\n",
    "            let x = event.clientX - rect.left;\n",
    "            let y = event.clientY - rect.top;\n",
    "            drawDot(x, y);\n",
    "            model.set(\"x_value\", x);\n",
    "            model.set(\"y_value\", y);\n",
    "            model.save_changes();\n",
    "        });\n",
    "        \n",
    "        el.classList.add(\"QuCATWidget\");\n",
    "        el.appendChild(canvas);\n",
    "    }\n",
    "    \"\"\"\n",
    "    # _css = \"src/gui/styles.css\"\n",
    "\n",
    "    x_value = traitlets.Float().tag(sync=True)\n",
    "    y_value = traitlets.Float().tag(sync=True)\n",
    "\n",
    "my_widget = QucatWidget()\n",
    "my_widget"
   ]
  },
  {
   "cell_type": "code",
   "execution_count": null,
   "metadata": {},
   "outputs": [],
   "source": [
    "print(\"(\", my_widget.x_value, \", \", my_widget.y_value, \")\")"
   ]
  }
 ],
 "metadata": {
  "kernelspec": {
   "display_name": "Python 3 (ipykernel)",
   "language": "python",
   "name": "python3"
  },
  "language_info": {
   "codemirror_mode": {
    "name": "ipython",
    "version": 3
   },
   "file_extension": ".py",
   "mimetype": "text/x-python",
   "name": "python",
   "nbconvert_exporter": "python",
   "pygments_lexer": "ipython3",
   "version": "3.13.1"
  }
 },
 "nbformat": 4,
 "nbformat_minor": 4
}
