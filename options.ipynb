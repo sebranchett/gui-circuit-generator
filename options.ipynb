{
 "cells": [
  {
   "cell_type": "code",
   "execution_count": null,
   "metadata": {},
   "outputs": [],
   "source": [
    "from IPython.display import HTML\n",
    "\n",
    "with open(r\"C:\\Users\\sbranchett\\work\\qucat-circuit-generator\\src\\gui\\gui.html\", 'r') as file:\n",
    "    html_code = file.read()\n",
    "\n",
    "display(HTML(html_code))"
   ]
  },
  {
   "cell_type": "code",
   "execution_count": null,
   "metadata": {},
   "outputs": [],
   "source": [
    "from IPython.display import IFrame\n",
    "# fred = IFrame(https://playground.tensorflow.org, 900,500)\n",
    "fred = IFrame(\"./src/gui/gui.html\", 900,500)  # allow-downloads?\n",
    "fred"
   ]
  },
  {
   "cell_type": "code",
   "execution_count": null,
   "metadata": {},
   "outputs": [],
   "source": [
    "from ipylab import JupyterFrontEnd\n",
    "\n",
    "app = JupyterFrontEnd()\n",
    "# app.commands.execute('help:open', args={\"url\": \"./src/gui/gui.html\", \"text\": \"Tab name\"})\n",
    "app.commands.execute('help:open', args={\"url\": \"https://qucat.org\", \"text\": \"Documentation\"})"
   ]
  }
 ],
 "metadata": {
  "kernelspec": {
   "display_name": "Python 3 (ipykernel)",
   "language": "python",
   "name": "python3"
  },
  "language_info": {
   "codemirror_mode": {
    "name": "ipython",
    "version": 3
   },
   "file_extension": ".py",
   "mimetype": "text/x-python",
   "name": "python",
   "nbconvert_exporter": "python",
   "pygments_lexer": "ipython3",
   "version": "3.13.1"
  }
 },
 "nbformat": 4,
 "nbformat_minor": 4
}
